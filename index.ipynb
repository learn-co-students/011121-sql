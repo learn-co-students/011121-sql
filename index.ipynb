{
 "cells": [
  {
   "cell_type": "markdown",
   "metadata": {
    "nbgrader": {
     "grade": false,
     "grade_id": "1f5b6c9c8dbc6c7e8d68a29456a3783c",
     "locked": true,
     "schema_version": 3,
     "solution": false,
     "task": false
    }
   },
   "source": [
    "## SQL and Relational Databases\n",
    "\n",
    "In this checkpoint you will be exploring a Pokemon dataset that has been put into SQL tables. Pokemon are fictional creatures from the [Nintendo franchise](https://en.wikipedia.org/wiki/Pok%C3%A9mon) of the same name.\n",
    "\n",
    "Some Pokemon facts that might be useful:\n",
    "* The word \"pokemon\" is both singular and plural. You may refer to \"one pokemon\" or \"many pokemon\".\n",
    "* Pokemon have attributes such as a name, weight, and height.\n",
    "* Pokemon have one or multiple \"types\". A type is something like \"electric\", \"water\", \"ghost\", or \"normal\" that indicates the abilities that pokemon may possess.\n",
    "* The humans who collect pokemon are called \"trainers\".\n",
    "\n",
    "The schema of `pokemon.db` is as follows:\n",
    "\n",
    "<img src=\"data/pokemon_db.png\" alt=\"db schema\" style=\"width:500px;\"/>\n",
    "\n",
    "### How to fill out answers in this checkpoint\n",
    "\n",
    "Assign your SQL queries as strings to the variables `q1`, `q2`, etc. \n",
    "\n",
    "We provide starter code to copy and paste in your answer cell:\n",
    "- for each question, your sql query as a string will be assigned to a variable named `q`+`the numeral of the question` \n",
    "   - for example, for question 2: ```q2 = 'your sql query as a string here' ```\n",
    "   \n",
    "   \n",
    "- we also provide starter code to call that sql query string and convert the data into a pandas dataframe so you can check your work\n",
    "   - for example, also for quesiton 2: `pd.read_sql(q2, cnx)`\n",
    "   \n",
    "   \n",
    "**What you need to do:**\n",
    "- Copy/paste both lines of the starter code into your answer cell\n",
    "- Figure out your sql query, write it as a string, and assign it to the `q` variable in the starter code\n",
    "- Run the `pd.read_sql` starter code at the bottom of your answer cell without altering it in order to check your work\n",
    "\n",
    "\n",
    "**Important note on syntax**: use `double quotes \"\"` when quoting strings **within** your query and wrap the entire query in `single quotes ''`."
   ]
  },
  {
   "cell_type": "code",
   "execution_count": 1,
   "metadata": {
    "nbgrader": {
     "grade": false,
     "grade_id": "b01d4df206e1dd2a281e390af47f4f90",
     "locked": true,
     "schema_version": 3,
     "solution": false,
     "task": false
    }
   },
   "outputs": [],
   "source": [
    "# Run this cell without changes\n",
    "import pandas as pd\n",
    "import sqlite3"
   ]
  },
  {
   "cell_type": "code",
   "execution_count": 2,
   "metadata": {
    "nbgrader": {
     "grade": false,
     "grade_id": "ec42893775dce3bcc2e8fa0690dc6ea0",
     "locked": true,
     "schema_version": 3,
     "solution": false,
     "task": false
    }
   },
   "outputs": [],
   "source": [
    "# Run this cell without changes\n",
    "cnx = sqlite3.connect('data/pokemon.db')"
   ]
  },
  {
   "cell_type": "markdown",
   "metadata": {
    "nbgrader": {
     "grade": false,
     "grade_id": "617c52537138d5001706cc6c3b1f1fbc",
     "locked": true,
     "schema_version": 3,
     "solution": false,
     "task": false
    }
   },
   "source": [
    "### Question 1: Find all the pokemon on the `pokemon` table. \n",
    "### Display all columns."
   ]
  },
  {
   "cell_type": "code",
   "execution_count": null,
   "metadata": {},
   "outputs": [],
   "source": [
    "# Copy / paste this starter code into your answer cell\n",
    "# Put your query into a string and assign it to q1\n",
    "# pd.read_sql(q1, cnx) will pull the data and print a dataframe so you can check your work\n",
    "\n",
    "q1 = ''\n",
    "pd.read_sql(q1, cnx)"
   ]
  },
  {
   "cell_type": "code",
   "execution_count": 3,
   "metadata": {
    "nbgrader": {
     "grade": false,
     "grade_id": "ae1f34ffb6bf78046eda0d29c5a0f756",
     "locked": false,
     "schema_version": 3,
     "solution": true,
     "task": false
    }
   },
   "outputs": [
    {
     "data": {
      "text/html": [
       "<div>\n",
       "<style scoped>\n",
       "    .dataframe tbody tr th:only-of-type {\n",
       "        vertical-align: middle;\n",
       "    }\n",
       "\n",
       "    .dataframe tbody tr th {\n",
       "        vertical-align: top;\n",
       "    }\n",
       "\n",
       "    .dataframe thead th {\n",
       "        text-align: right;\n",
       "    }\n",
       "</style>\n",
       "<table border=\"1\" class=\"dataframe\">\n",
       "  <thead>\n",
       "    <tr style=\"text-align: right;\">\n",
       "      <th></th>\n",
       "      <th>id</th>\n",
       "      <th>name</th>\n",
       "      <th>base_experience</th>\n",
       "      <th>weight</th>\n",
       "      <th>height</th>\n",
       "    </tr>\n",
       "  </thead>\n",
       "  <tbody>\n",
       "    <tr>\n",
       "      <td>0</td>\n",
       "      <td>1</td>\n",
       "      <td>bulbasaur</td>\n",
       "      <td>64</td>\n",
       "      <td>69</td>\n",
       "      <td>7</td>\n",
       "    </tr>\n",
       "    <tr>\n",
       "      <td>1</td>\n",
       "      <td>2</td>\n",
       "      <td>ivysaur</td>\n",
       "      <td>142</td>\n",
       "      <td>130</td>\n",
       "      <td>10</td>\n",
       "    </tr>\n",
       "    <tr>\n",
       "      <td>2</td>\n",
       "      <td>3</td>\n",
       "      <td>venusaur</td>\n",
       "      <td>236</td>\n",
       "      <td>1000</td>\n",
       "      <td>20</td>\n",
       "    </tr>\n",
       "    <tr>\n",
       "      <td>3</td>\n",
       "      <td>4</td>\n",
       "      <td>charmander</td>\n",
       "      <td>62</td>\n",
       "      <td>85</td>\n",
       "      <td>6</td>\n",
       "    </tr>\n",
       "    <tr>\n",
       "      <td>4</td>\n",
       "      <td>5</td>\n",
       "      <td>charmeleon</td>\n",
       "      <td>142</td>\n",
       "      <td>190</td>\n",
       "      <td>11</td>\n",
       "    </tr>\n",
       "  </tbody>\n",
       "</table>\n",
       "</div>"
      ],
      "text/plain": [
       "   id        name  base_experience  weight  height\n",
       "0   1   bulbasaur               64      69       7\n",
       "1   2     ivysaur              142     130      10\n",
       "2   3    venusaur              236    1000      20\n",
       "3   4  charmander               62      85       6\n",
       "4   5  charmeleon              142     190      11"
      ]
     },
     "execution_count": 3,
     "metadata": {},
     "output_type": "execute_result"
    }
   ],
   "source": [
    "### BEGIN SOLUTION\n",
    "\n",
    "from test_scripts.test_class import Test\n",
    "test = Test()\n",
    "\n",
    "q1 = 'SELECT * FROM pokemon'\n",
    "df1 = pd.read_sql(q1, cnx)\n",
    "\n",
    "test.save(df1.columns, 'df1_columns')\n",
    "test.save(df1, 'df1')\n",
    "\n",
    "df1.head()\n",
    "\n",
    "### END SOLUTION"
   ]
  },
  {
   "cell_type": "code",
   "execution_count": 4,
   "metadata": {
    "nbgrader": {
     "grade": true,
     "grade_id": "0291086fa55f5b29aa144f760113b0ed",
     "locked": true,
     "points": 1,
     "schema_version": 3,
     "solution": false,
     "task": false
    }
   },
   "outputs": [],
   "source": [
    "# PUT ALL WORK FOR THE ABOVE QUESTION ABOVE THIS CELL\n",
    "# THIS UNALTERABLE CELL CONTAINS HIDDEN TESTS\n",
    "\n",
    "### BEGIN HIDDEN TESTS\n",
    "\n",
    "\n",
    "from test_scripts.test_class import Test\n",
    "test = Test()\n",
    "\n",
    "test.run_test(pd.read_sql(q1, cnx).columns, \n",
    "              'df1_columns',\n",
    "              \"Looks like you didn't have the right columns?\"\n",
    "             )\n",
    "\n",
    "test.run_test(pd.read_sql(q1, cnx), \n",
    "              'df1',\n",
    "              \"Looks like you didn't have the right rows?\"\n",
    "             )\n",
    "\n",
    "\n",
    "### END HIDDEN TESTS"
   ]
  },
  {
   "cell_type": "markdown",
   "metadata": {
    "nbgrader": {
     "grade": false,
     "grade_id": "eddc73dd807957411963f1dbf2b6e64b",
     "locked": true,
     "schema_version": 3,
     "solution": false,
     "task": false
    }
   },
   "source": [
    "### Question 2: Find all the rows from the \"pokemon_types\" table where the `type_id` is 3.\n",
    "### Display `id`, `pokemon_id`, `type_id`"
   ]
  },
  {
   "cell_type": "code",
   "execution_count": null,
   "metadata": {},
   "outputs": [],
   "source": [
    "# Copy / paste this starter code into your answer cell\n",
    "# Put your query into a string and assign it to q2\n",
    "# pd.read_sql(q2, cnx) will pull the data and print a dataframe so you can check your work\n",
    "\n",
    "q2 = ''\n",
    "pd.read_sql(q2, cnx)"
   ]
  },
  {
   "cell_type": "code",
   "execution_count": 5,
   "metadata": {
    "nbgrader": {
     "grade": false,
     "grade_id": "4679f1f5e42cfe4fb65cdf95dbcd2153",
     "locked": false,
     "schema_version": 3,
     "solution": true,
     "task": false
    }
   },
   "outputs": [
    {
     "data": {
      "text/html": [
       "<div>\n",
       "<style scoped>\n",
       "    .dataframe tbody tr th:only-of-type {\n",
       "        vertical-align: middle;\n",
       "    }\n",
       "\n",
       "    .dataframe tbody tr th {\n",
       "        vertical-align: top;\n",
       "    }\n",
       "\n",
       "    .dataframe thead th {\n",
       "        text-align: right;\n",
       "    }\n",
       "</style>\n",
       "<table border=\"1\" class=\"dataframe\">\n",
       "  <thead>\n",
       "    <tr style=\"text-align: right;\">\n",
       "      <th></th>\n",
       "      <th>id</th>\n",
       "      <th>pokemon_id</th>\n",
       "      <th>type_id</th>\n",
       "    </tr>\n",
       "  </thead>\n",
       "  <tbody>\n",
       "    <tr>\n",
       "      <td>0</td>\n",
       "      <td>10</td>\n",
       "      <td>6</td>\n",
       "      <td>3</td>\n",
       "    </tr>\n",
       "    <tr>\n",
       "      <td>1</td>\n",
       "      <td>17</td>\n",
       "      <td>12</td>\n",
       "      <td>3</td>\n",
       "    </tr>\n",
       "    <tr>\n",
       "      <td>2</td>\n",
       "      <td>25</td>\n",
       "      <td>16</td>\n",
       "      <td>3</td>\n",
       "    </tr>\n",
       "    <tr>\n",
       "      <td>3</td>\n",
       "      <td>27</td>\n",
       "      <td>17</td>\n",
       "      <td>3</td>\n",
       "    </tr>\n",
       "    <tr>\n",
       "      <td>4</td>\n",
       "      <td>29</td>\n",
       "      <td>18</td>\n",
       "      <td>3</td>\n",
       "    </tr>\n",
       "  </tbody>\n",
       "</table>\n",
       "</div>"
      ],
      "text/plain": [
       "   id  pokemon_id  type_id\n",
       "0  10           6        3\n",
       "1  17          12        3\n",
       "2  25          16        3\n",
       "3  27          17        3\n",
       "4  29          18        3"
      ]
     },
     "execution_count": 5,
     "metadata": {},
     "output_type": "execute_result"
    }
   ],
   "source": [
    "### BEGIN SOLUTION\n",
    "\n",
    "from test_scripts.test_class import Test\n",
    "test = Test()\n",
    "    \n",
    "q2 = 'SELECT * FROM pokemon_types WHERE type_id = 3'\n",
    "df2 = pd.read_sql(q2, cnx)\n",
    "\n",
    "test.save(df2.columns, 'df2_columns')\n",
    "test.save(df2, 'df2')\n",
    "\n",
    "df2.head()\n",
    "\n",
    "### END SOLUTION"
   ]
  },
  {
   "cell_type": "code",
   "execution_count": 6,
   "metadata": {
    "nbgrader": {
     "grade": true,
     "grade_id": "f57e3f726088e78c29907f1188f99c49",
     "locked": true,
     "points": 1,
     "schema_version": 3,
     "solution": false,
     "task": false
    }
   },
   "outputs": [],
   "source": [
    "# PUT ALL WORK FOR THE ABOVE QUESTION ABOVE THIS CELL\n",
    "# THIS UNALTERABLE CELL CONTAINS HIDDEN TESTS\n",
    "\n",
    "### BEGIN HIDDEN TESTS\n",
    "\n",
    "\n",
    "from test_scripts.test_class import Test\n",
    "test = Test()\n",
    "\n",
    "test.run_test(pd.read_sql(q2, cnx).columns,\n",
    "              'df2_columns',\n",
    "              'looks like you didn\"t include id, pokemon_id, and type_id?'\n",
    ")\n",
    "\n",
    "test.run_test(pd.read_sql(q2, cnx),\n",
    "              'df2',\n",
    "              \"looks like you didn't have the right rows?\"\n",
    ")\n",
    "\n",
    "\n",
    "### END HIDDEN TESTS"
   ]
  },
  {
   "cell_type": "markdown",
   "metadata": {
    "nbgrader": {
     "grade": false,
     "grade_id": "b8f65846920508d4071aac5f1bcfe68b",
     "locked": true,
     "schema_version": 3,
     "solution": false,
     "task": false
    }
   },
   "source": [
    "### Question 3: Find all the rows from the \"pokemon_types\" table where the associated type is \"water\". \n",
    "\n",
    "- Do so **without** hard-coding the id of the \"water\" type.  Use only the `name` field in the `types` table.\n",
    "\n",
    "- Include `id`, `pokemon_id` and `type_id` in the view of the data.  IOW, as the columns of the printed-out dataframe. "
   ]
  },
  {
   "cell_type": "code",
   "execution_count": null,
   "metadata": {},
   "outputs": [],
   "source": [
    "# Copy / paste this starter code into your answer cell\n",
    "# Put your query into a string and assign it to q3\n",
    "# pd.read_sql(q3, cnx) will pull the data and print a dataframe so you can check your work\n",
    "\n",
    "q3 = ''\n",
    "pd.read_sql(q3, cnx)"
   ]
  },
  {
   "cell_type": "code",
   "execution_count": 7,
   "metadata": {
    "nbgrader": {
     "grade": false,
     "grade_id": "933b5589b263e8a66a1b5e6418013cba",
     "locked": false,
     "schema_version": 3,
     "solution": true,
     "task": false
    }
   },
   "outputs": [
    {
     "data": {
      "text/html": [
       "<div>\n",
       "<style scoped>\n",
       "    .dataframe tbody tr th:only-of-type {\n",
       "        vertical-align: middle;\n",
       "    }\n",
       "\n",
       "    .dataframe tbody tr th {\n",
       "        vertical-align: top;\n",
       "    }\n",
       "\n",
       "    .dataframe thead th {\n",
       "        text-align: right;\n",
       "    }\n",
       "</style>\n",
       "<table border=\"1\" class=\"dataframe\">\n",
       "  <thead>\n",
       "    <tr style=\"text-align: right;\">\n",
       "      <th></th>\n",
       "      <th>id</th>\n",
       "      <th>pokemon_id</th>\n",
       "      <th>type_id</th>\n",
       "    </tr>\n",
       "  </thead>\n",
       "  <tbody>\n",
       "    <tr>\n",
       "      <td>0</td>\n",
       "      <td>11</td>\n",
       "      <td>7</td>\n",
       "      <td>11</td>\n",
       "    </tr>\n",
       "    <tr>\n",
       "      <td>1</td>\n",
       "      <td>12</td>\n",
       "      <td>8</td>\n",
       "      <td>11</td>\n",
       "    </tr>\n",
       "    <tr>\n",
       "      <td>2</td>\n",
       "      <td>13</td>\n",
       "      <td>9</td>\n",
       "      <td>11</td>\n",
       "    </tr>\n",
       "    <tr>\n",
       "      <td>3</td>\n",
       "      <td>80</td>\n",
       "      <td>54</td>\n",
       "      <td>11</td>\n",
       "    </tr>\n",
       "    <tr>\n",
       "      <td>4</td>\n",
       "      <td>81</td>\n",
       "      <td>55</td>\n",
       "      <td>11</td>\n",
       "    </tr>\n",
       "  </tbody>\n",
       "</table>\n",
       "</div>"
      ],
      "text/plain": [
       "   id  pokemon_id  type_id\n",
       "0  11           7       11\n",
       "1  12           8       11\n",
       "2  13           9       11\n",
       "3  80          54       11\n",
       "4  81          55       11"
      ]
     },
     "execution_count": 7,
     "metadata": {},
     "output_type": "execute_result"
    }
   ],
   "source": [
    "### BEGIN SOLUTION\n",
    "\n",
    "\n",
    "from test_scripts.test_class import Test\n",
    "test = Test()\n",
    "\n",
    "q3 = '''\n",
    "SELECT pokemon_types.*\n",
    "FROM pokemon_types\n",
    "INNER JOIN types \n",
    "    ON types.id = pokemon_types.type_id\n",
    "WHERE types.name = \"water\"\n",
    "'''\n",
    "df3 = pd.read_sql(q3, cnx)\n",
    "\n",
    "test.save(len(df3), 'df3_length')\n",
    "test.save(df3.columns, 'df3_columns')\n",
    "test.save(df3, 'df3')\n",
    "\n",
    "df3.head()\n",
    "\n",
    "### END SOLUTION"
   ]
  },
  {
   "cell_type": "code",
   "execution_count": 8,
   "metadata": {
    "nbgrader": {
     "grade": true,
     "grade_id": "825b9e295c1f9eac50231682a41a01cc",
     "locked": true,
     "points": 1,
     "schema_version": 3,
     "solution": false,
     "task": false
    }
   },
   "outputs": [],
   "source": [
    "# PUT ALL WORK FOR THE ABOVE QUESTION ABOVE THIS CELL\n",
    "# THIS UNALTERABLE CELL CONTAINS HIDDEN TESTS\n",
    "\n",
    "### BEGIN HIDDEN TESTS\n",
    "\n",
    "\n",
    "from test_scripts.test_class import Test\n",
    "test = Test()\n",
    "\n",
    "test.run_test(len(pd.read_sql(q3, cnx)),\n",
    "              'df3_length',\n",
    "              \"looks like you didn't have the right number of rows?\"\n",
    ")\n",
    "\n",
    "test.run_test(pd.read_sql(q3, cnx).columns,\n",
    "              'df3_columns',\n",
    "              \"looks like you didn't have `id`, `pokemon_id` and `type_id` as the columns?\"\n",
    "             )\n",
    "\n",
    "test.run_test(pd.read_sql(q3, cnx),\n",
    "              'df3',\n",
    "              \"looks like you had the wrong values?\"\n",
    "             )\n",
    "\n",
    "\n",
    "### END HIDDEN TESTS"
   ]
  },
  {
   "cell_type": "markdown",
   "metadata": {
    "nbgrader": {
     "grade": false,
     "grade_id": "26bae912f2995b397c6d96bc3d097a66",
     "locked": true,
     "schema_version": 3,
     "solution": false,
     "task": false
    }
   },
   "source": [
    "### Question 4: Find the names of all pokemon that have the \"psychic\" type."
   ]
  },
  {
   "cell_type": "code",
   "execution_count": null,
   "metadata": {},
   "outputs": [],
   "source": [
    "# Copy / paste this starter code into your answer cell\n",
    "# Put your query into a string and assign it to q4\n",
    "# pd.read_sql(q4, cnx) will pull the data and print a dataframe so you can check your work\n",
    "\n",
    "q4 = ''\n",
    "pd.read_sql(q4, cnx)"
   ]
  },
  {
   "cell_type": "code",
   "execution_count": 9,
   "metadata": {
    "nbgrader": {
     "grade": false,
     "grade_id": "50e02b680515d6a6061387620775d9c5",
     "locked": false,
     "schema_version": 3,
     "solution": true,
     "task": false
    }
   },
   "outputs": [],
   "source": [
    "### BEGIN SOLUTION\n",
    "\n",
    "\n",
    "from test_scripts.test_class import Test\n",
    "test = Test()\n",
    "\n",
    "q4 = '''\n",
    "SELECT pokemon.name\n",
    "FROM pokemon\n",
    "INNER JOIN pokemon_types\n",
    "    ON pokemon_types.pokemon_id = pokemon.id\n",
    "INNER JOIN types\n",
    "    ON types.id = pokemon_types.type_id\n",
    "WHERE types.name = \"psychic\"\n",
    "'''\n",
    "df4 = pd.read_sql(q4, cnx)\n",
    "\n",
    "test.save(len(df4), 'df4_length')\n",
    "test.save(df4, 'df4')\n",
    "\n",
    "\n",
    "\n",
    "### END SOLUTION"
   ]
  },
  {
   "cell_type": "code",
   "execution_count": 10,
   "metadata": {
    "nbgrader": {
     "grade": true,
     "grade_id": "62fac5e08e8808ddcf5b32c16bd10661",
     "locked": true,
     "points": 1,
     "schema_version": 3,
     "solution": false,
     "task": false
    }
   },
   "outputs": [],
   "source": [
    "# PUT ALL WORK FOR THE ABOVE QUESTION ABOVE THIS CELL\n",
    "# THIS UNALTERABLE CELL CONTAINS HIDDEN TESTS\n",
    "\n",
    "### BEGIN HIDDEN TESTS\n",
    "\n",
    "\n",
    "from test_scripts.test_class import Test\n",
    "test = Test()\n",
    "\n",
    "test.run_test(len(pd.read_sql(q4, cnx)),\n",
    "              'df4_length',\n",
    "              'looks like you had the wrong number of names?'\n",
    "             )\n",
    "\n",
    "test.run_test(pd.read_sql(q4, cnx),\n",
    "              'df4',\n",
    "              'looks like you had the wrong names?'\n",
    "             )\n",
    "\n",
    "\n",
    "### END HIDDEN TESTS"
   ]
  },
  {
   "cell_type": "markdown",
   "metadata": {
    "nbgrader": {
     "grade": false,
     "grade_id": "8a4fcdc2420b54aa4979ff3bc473338a",
     "locked": true,
     "schema_version": 3,
     "solution": false,
     "task": false
    }
   },
   "source": [
    "### Question 5: Find the average weight for each type. \n",
    "\n",
    "#### Order the results from highest weight to lowest weight. \n",
    "\n",
    "#### Display average weight as `AVG(weight)` and each type as `name`.  \n",
    "IOW, the columns in the dataframe should be `AVG(weight)` and `name`"
   ]
  },
  {
   "cell_type": "code",
   "execution_count": null,
   "metadata": {},
   "outputs": [],
   "source": [
    "# Copy / paste this starter code into your answer cell\n",
    "# Put your query into a string and assign it to q5\n",
    "# pd.read_sql(q5, cnx) will pull the data and print a dataframe so you can check your work\n",
    "\n",
    "q5 = ''\n",
    "pd.read_sql(q5, cnx)"
   ]
  },
  {
   "cell_type": "code",
   "execution_count": 11,
   "metadata": {
    "nbgrader": {
     "grade": false,
     "grade_id": "de0f951773ac6f02bfba41f93de4513c",
     "locked": false,
     "schema_version": 3,
     "solution": true,
     "task": false
    }
   },
   "outputs": [],
   "source": [
    "### BEGIN SOLUTION\n",
    "\n",
    "\n",
    "from test_scripts.test_class import Test\n",
    "test = Test()\n",
    "\n",
    "q5 = '''\n",
    "SELECT AVG(weight), types.name\n",
    "FROM pokemon\n",
    "INNER JOIN pokemon_types\n",
    "    ON pokemon_types.pokemon_id = pokemon.id\n",
    "INNER JOIN types\n",
    "    ON types.id = pokemon_types.type_id\n",
    "GROUP BY types.name\n",
    "ORDER BY AVG(weight) DESC\n",
    "'''\n",
    "df5 = pd.read_sql(q5, cnx)\n",
    "\n",
    "test.save(len(df5), 'df5_length')\n",
    "test.save(df5.columns, 'df5_columns')\n",
    "test.save(df5, 'df5')\n",
    "\n",
    "\n",
    "\n",
    "### END SOLUTION"
   ]
  },
  {
   "cell_type": "code",
   "execution_count": 12,
   "metadata": {
    "nbgrader": {
     "grade": true,
     "grade_id": "8ba04c2390ae64c69393c22687a038ec",
     "locked": true,
     "points": 1,
     "schema_version": 3,
     "solution": false,
     "task": false
    }
   },
   "outputs": [],
   "source": [
    "# PUT ALL WORK FOR THE ABOVE QUESTION ABOVE THIS CELL\n",
    "# THIS UNALTERABLE CELL CONTAINS HIDDEN TESTS\n",
    "\n",
    "### BEGIN HIDDEN TESTS\n",
    "\n",
    "\n",
    "from test_scripts.test_class import Test\n",
    "test = Test()\n",
    "\n",
    "test.run_test(len(pd.read_sql(q5, cnx)),\n",
    "              'df5_length',\n",
    "              \"looks like you had the wrong number of rows?\"\n",
    "             )\n",
    "\n",
    "test.run_test(pd.read_sql(q5, cnx).columns,\n",
    "              'df5_columns',\n",
    "              \"looks like you named the columns incorrectly?\"\n",
    "             )\n",
    "\n",
    "test.run_test(pd.read_sql(q5, cnx),\n",
    "              'df5',\n",
    "              \"looks like you had the wrong values?\"\n",
    "             )\n",
    "\n",
    "\n",
    "### END HIDDEN TESTS"
   ]
  },
  {
   "cell_type": "markdown",
   "metadata": {
    "nbgrader": {
     "grade": false,
     "grade_id": "6b848b2c764f43644c00fb6c48bdb49a",
     "locked": true,
     "schema_version": 3,
     "solution": false,
     "task": false
    }
   },
   "source": [
    "### Question 6: Find the names and ids of all the pokemon that have more than 1 type. \n",
    "\n",
    "#### The two columns in the view of the data should be `id` and `name`"
   ]
  },
  {
   "cell_type": "code",
   "execution_count": null,
   "metadata": {},
   "outputs": [],
   "source": [
    "# Copy / paste this starter code into your answer cell\n",
    "# Put your query into a string and assign it to q6\n",
    "# pd.read_sql(q6, cnx) will pull the data and print a dataframe so you can check your work\n",
    "\n",
    "q6 = ''\n",
    "pd.read_sql(q6, cnx)"
   ]
  },
  {
   "cell_type": "code",
   "execution_count": 13,
   "metadata": {
    "nbgrader": {
     "grade": false,
     "grade_id": "0990af870f72d053982bdc44980613d0",
     "locked": false,
     "schema_version": 3,
     "solution": true,
     "task": false
    }
   },
   "outputs": [
    {
     "data": {
      "text/html": [
       "<div>\n",
       "<style scoped>\n",
       "    .dataframe tbody tr th:only-of-type {\n",
       "        vertical-align: middle;\n",
       "    }\n",
       "\n",
       "    .dataframe tbody tr th {\n",
       "        vertical-align: top;\n",
       "    }\n",
       "\n",
       "    .dataframe thead th {\n",
       "        text-align: right;\n",
       "    }\n",
       "</style>\n",
       "<table border=\"1\" class=\"dataframe\">\n",
       "  <thead>\n",
       "    <tr style=\"text-align: right;\">\n",
       "      <th></th>\n",
       "      <th>id</th>\n",
       "      <th>name</th>\n",
       "    </tr>\n",
       "  </thead>\n",
       "  <tbody>\n",
       "    <tr>\n",
       "      <td>0</td>\n",
       "      <td>1</td>\n",
       "      <td>bulbasaur</td>\n",
       "    </tr>\n",
       "    <tr>\n",
       "      <td>1</td>\n",
       "      <td>2</td>\n",
       "      <td>ivysaur</td>\n",
       "    </tr>\n",
       "    <tr>\n",
       "      <td>2</td>\n",
       "      <td>3</td>\n",
       "      <td>venusaur</td>\n",
       "    </tr>\n",
       "    <tr>\n",
       "      <td>3</td>\n",
       "      <td>6</td>\n",
       "      <td>charizard</td>\n",
       "    </tr>\n",
       "    <tr>\n",
       "      <td>4</td>\n",
       "      <td>12</td>\n",
       "      <td>butterfree</td>\n",
       "    </tr>\n",
       "  </tbody>\n",
       "</table>\n",
       "</div>"
      ],
      "text/plain": [
       "   id        name\n",
       "0   1   bulbasaur\n",
       "1   2     ivysaur\n",
       "2   3    venusaur\n",
       "3   6   charizard\n",
       "4  12  butterfree"
      ]
     },
     "execution_count": 13,
     "metadata": {},
     "output_type": "execute_result"
    }
   ],
   "source": [
    "### BEGIN SOLUTION\n",
    "\n",
    "\n",
    "from test_scripts.test_class import Test\n",
    "test = Test()\n",
    "\n",
    "q6 = '''\n",
    "SELECT pokemon.id, pokemon.name\n",
    "FROM pokemon\n",
    "INNER JOIN pokemon_types\n",
    "    ON pokemon.id = pokemon_types.pokemon_id\n",
    "GROUP BY pokemon_id\n",
    "HAVING COUNT(pokemon_id) > 1\n",
    "'''\n",
    "df6 = pd.read_sql(q6, cnx)\n",
    "\n",
    "test.save(len(df6), 'len_df6')\n",
    "test.save(df6.columns, 'col_df6')\n",
    "test.save(df6, 'df6')\n",
    "\n",
    "\n",
    "df6.head()\n",
    "### END SOLUTION"
   ]
  },
  {
   "cell_type": "code",
   "execution_count": 14,
   "metadata": {
    "nbgrader": {
     "grade": true,
     "grade_id": "b891ca5f1a25a08e33c047cd5f52b5ea",
     "locked": true,
     "points": 1,
     "schema_version": 3,
     "solution": false,
     "task": false
    }
   },
   "outputs": [],
   "source": [
    "# PUT ALL WORK FOR THE ABOVE QUESTION ABOVE THIS CELL\n",
    "# THIS UNALTERABLE CELL CONTAINS HIDDEN TESTS\n",
    "\n",
    "### BEGIN HIDDEN TESTS\n",
    "\n",
    "\n",
    "from test_scripts.test_class import Test\n",
    "test = Test()\n",
    "\n",
    "test.run_test(len(pd.read_sql(q6, cnx)),\n",
    "              'len_df6',\n",
    "              \"looks like you had the wrong number of rows?\"\n",
    "             )\n",
    "\n",
    "test.run_test(pd.read_sql(q6, cnx).columns,\n",
    "              'col_df6',\n",
    "              \"looks like you had the wrong columns?\"\n",
    "             )\n",
    "\n",
    "test.run_test(pd.read_sql(q6, cnx),\n",
    "              'df6',\n",
    "              \"looks like you had the wrong values?\"\n",
    "             )\n",
    "\n",
    "### END HIDDEN TESTS"
   ]
  },
  {
   "cell_type": "markdown",
   "metadata": {
    "nbgrader": {
     "grade": false,
     "grade_id": "4832bef131753e97132603c0bbef3d4e",
     "locked": true,
     "schema_version": 3,
     "solution": false,
     "task": false
    }
   },
   "source": [
    "### Question 7: Find the id of the type that has the most pokemon. \n",
    "\n",
    "#### The view of the data should have the columns `num_pokemon` and `type_id`"
   ]
  },
  {
   "cell_type": "code",
   "execution_count": null,
   "metadata": {},
   "outputs": [],
   "source": [
    "# Copy / paste this starter code into your answer cell\n",
    "# Put your query into a string and assign it to q7\n",
    "# pd.read_sql(q7, cnx) will pull the data and print a dataframe so you can check your work\n",
    "\n",
    "q7 = ''\n",
    "pd.read_sql(q7, cnx)"
   ]
  },
  {
   "cell_type": "code",
   "execution_count": 15,
   "metadata": {
    "nbgrader": {
     "grade": false,
     "grade_id": "0cbf67791d8210625fba6b718a35c64a",
     "locked": false,
     "schema_version": 3,
     "solution": true,
     "task": false
    }
   },
   "outputs": [
    {
     "data": {
      "text/html": [
       "<div>\n",
       "<style scoped>\n",
       "    .dataframe tbody tr th:only-of-type {\n",
       "        vertical-align: middle;\n",
       "    }\n",
       "\n",
       "    .dataframe tbody tr th {\n",
       "        vertical-align: top;\n",
       "    }\n",
       "\n",
       "    .dataframe thead th {\n",
       "        text-align: right;\n",
       "    }\n",
       "</style>\n",
       "<table border=\"1\" class=\"dataframe\">\n",
       "  <thead>\n",
       "    <tr style=\"text-align: right;\">\n",
       "      <th></th>\n",
       "      <th>num_pokemon</th>\n",
       "      <th>type_id</th>\n",
       "    </tr>\n",
       "  </thead>\n",
       "  <tbody>\n",
       "    <tr>\n",
       "      <td>0</td>\n",
       "      <td>33</td>\n",
       "      <td>4</td>\n",
       "    </tr>\n",
       "  </tbody>\n",
       "</table>\n",
       "</div>"
      ],
      "text/plain": [
       "   num_pokemon  type_id\n",
       "0           33        4"
      ]
     },
     "execution_count": 15,
     "metadata": {},
     "output_type": "execute_result"
    }
   ],
   "source": [
    "### BEGIN SOLUTION\n",
    "\n",
    "\n",
    "from test_scripts.test_class import Test\n",
    "test = Test()\n",
    "\n",
    "q7 = '''\n",
    "SELECT COUNT(pokemon_id) AS num_pokemon, type_id\n",
    "FROM pokemon_types\n",
    "GROUP BY type_id\n",
    "ORDER BY num_pokemon DESC\n",
    "LIMIT 1'''\n",
    "\n",
    "df7 = pd.read_sql(q7, cnx)\n",
    "\n",
    "test.save(len(df7), 'len_df7')\n",
    "test.save(df7.columns, 'col_df7')\n",
    "test.save(df7, 'df7')\n",
    "\n",
    "df7.head()\n",
    "\n",
    "### END SOLUTION"
   ]
  },
  {
   "cell_type": "code",
   "execution_count": 16,
   "metadata": {
    "nbgrader": {
     "grade": true,
     "grade_id": "0c47814a24f933f0d9cff0544c5d0c33",
     "locked": true,
     "points": 1,
     "schema_version": 3,
     "solution": false,
     "task": false
    }
   },
   "outputs": [],
   "source": [
    "# PUT ALL WORK FOR THE ABOVE QUESTION ABOVE THIS CELL\n",
    "# THIS UNALTERABLE CELL CONTAINS HIDDEN TESTS\n",
    "\n",
    "### BEGIN HIDDEN TESTS\n",
    "\n",
    "\n",
    "from test_scripts.test_class import Test\n",
    "test = Test()\n",
    "\n",
    "test.run_test(len(pd.read_sql(q7, cnx)), \n",
    "              'len_df7', \n",
    "              \"looks like you had the wrong length?\"\n",
    "             )\n",
    "\n",
    "test.run_test(pd.read_sql(q7, cnx).columns, \n",
    "              'col_df7', \n",
    "              \"looks like you had the wrong column names?\"\n",
    "             )\n",
    "\n",
    "test.run_test(pd.read_sql(q7, cnx), \n",
    "              'df7', \n",
    "              \"looks like you had the wrong values?\"\n",
    "             )\n",
    "\n",
    "\n",
    "### END HIDDEN TESTS"
   ]
  }
 ],
 "metadata": {
  "kernelspec": {
   "display_name": "Python 3",
   "language": "python",
   "name": "python3"
  },
  "language_info": {
   "codemirror_mode": {
    "name": "ipython",
    "version": 3
   },
   "file_extension": ".py",
   "mimetype": "text/x-python",
   "name": "python",
   "nbconvert_exporter": "python",
   "pygments_lexer": "ipython3",
   "version": "3.7.4"
  }
 },
 "nbformat": 4,
 "nbformat_minor": 4
}
